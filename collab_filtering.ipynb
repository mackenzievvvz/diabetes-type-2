{
 "cells": [
  {
   "cell_type": "code",
   "execution_count": 1,
   "id": "b0206cac",
   "metadata": {},
   "outputs": [],
   "source": [
    "import pandas as pd\n",
    "import numpy as np\n",
    "from sklearn.metrics.pairwise import cosine_similarity"
   ]
  },
  {
   "cell_type": "markdown",
   "id": "f184d57d",
   "metadata": {},
   "source": [
    "## Data Cleaning and Preparation"
   ]
  },
  {
   "cell_type": "code",
   "execution_count": 2,
   "id": "1468bc17",
   "metadata": {},
   "outputs": [
    {
     "name": "stdout",
     "output_type": "stream",
     "text": [
      "<class 'pandas.core.frame.DataFrame'>\n",
      "RangeIndex: 253680 entries, 0 to 253679\n",
      "Data columns (total 22 columns):\n",
      " #   Column                Non-Null Count   Dtype  \n",
      "---  ------                --------------   -----  \n",
      " 0   Diabetes_012          253680 non-null  float64\n",
      " 1   HighBP                253680 non-null  float64\n",
      " 2   HighChol              253680 non-null  float64\n",
      " 3   CholCheck             253680 non-null  float64\n",
      " 4   BMI                   253680 non-null  float64\n",
      " 5   Smoker                253680 non-null  float64\n",
      " 6   Stroke                253680 non-null  float64\n",
      " 7   HeartDiseaseorAttack  253680 non-null  float64\n",
      " 8   PhysActivity          253680 non-null  float64\n",
      " 9   Fruits                253680 non-null  float64\n",
      " 10  Veggies               253680 non-null  float64\n",
      " 11  HvyAlcoholConsump     253680 non-null  float64\n",
      " 12  AnyHealthcare         253680 non-null  float64\n",
      " 13  NoDocbcCost           253680 non-null  float64\n",
      " 14  GenHlth               253680 non-null  float64\n",
      " 15  MentHlth              253680 non-null  float64\n",
      " 16  PhysHlth              253680 non-null  float64\n",
      " 17  DiffWalk              253680 non-null  float64\n",
      " 18  Sex                   253680 non-null  float64\n",
      " 19  Age                   253680 non-null  float64\n",
      " 20  Education             253680 non-null  float64\n",
      " 21  Income                253680 non-null  float64\n",
      "dtypes: float64(22)\n",
      "memory usage: 42.6 MB\n"
     ]
    }
   ],
   "source": [
    "# reading in data and getting the info on each column\n",
    "diabetes = pd.read_csv(\"diabetes_012_health_indicators_BRFSS2015.csv\")\n",
    "diabetes.info()"
   ]
  },
  {
   "cell_type": "code",
   "execution_count": 3,
   "id": "169c98a2",
   "metadata": {},
   "outputs": [],
   "source": [
    "# because the values above are floats, this converts all columns to int\n",
    "diabetes = diabetes.astype(int)"
   ]
  },
  {
   "cell_type": "code",
   "execution_count": 4,
   "id": "82edc2b2",
   "metadata": {},
   "outputs": [
    {
     "data": {
      "text/plain": [
       "0         0\n",
       "1         0\n",
       "2         0\n",
       "3         0\n",
       "4         0\n",
       "         ..\n",
       "253675    0\n",
       "253676    1\n",
       "253677    0\n",
       "253678    0\n",
       "253679    1\n",
       "Name: Diabetes_012, Length: 253680, dtype: int64"
      ]
     },
     "execution_count": 4,
     "metadata": {},
     "output_type": "execute_result"
    }
   ],
   "source": [
    "# converting \"prediabetes\" individuals to \"no diabetes\"\n",
    "diabetes['Diabetes_012'] = diabetes['Diabetes_012'].replace(1, 0)\n",
    "\n",
    "# converting the diabetes label from 2 to 1 \n",
    "diabetes['Diabetes_012'] = diabetes['Diabetes_012'].replace(2, 1)\n",
    "\n",
    "diabetes[\"Diabetes_012\"]"
   ]
  },
  {
   "cell_type": "code",
   "execution_count": 5,
   "id": "976ad78f",
   "metadata": {},
   "outputs": [
    {
     "name": "stdout",
     "output_type": "stream",
     "text": [
      "0    218334\n",
      "1     35346\n",
      "Name: Diabetes_012, dtype: int64\n"
     ]
    }
   ],
   "source": [
    "# checking number of values for each\n",
    "uniq = diabetes['Diabetes_012'].value_counts()\n",
    "\n",
    "print(uniq)"
   ]
  },
  {
   "cell_type": "code",
   "execution_count": 6,
   "id": "53355f94",
   "metadata": {},
   "outputs": [
    {
     "name": "stdout",
     "output_type": "stream",
     "text": [
      "0    35346\n",
      "Name: Diabetes_012, dtype: int64\n"
     ]
    }
   ],
   "source": [
    "# evening the data so that there are an equal number of 0 values as 1 values for the diabetes column\n",
    "num_ones = (diabetes['Diabetes_012'] == 1).sum()\n",
    "\n",
    "# separate no diabetes users\n",
    "no_diabetes = diabetes[diabetes['Diabetes_012'] == 0].sample(n=num_ones, random_state=42)\n",
    "uniq_no = no_diabetes['Diabetes_012'].value_counts()\n",
    "print(uniq_no)"
   ]
  },
  {
   "cell_type": "code",
   "execution_count": 7,
   "id": "95754731",
   "metadata": {},
   "outputs": [],
   "source": [
    "# Separate users into diabetes and no diabetes groups\n",
    "diabetes_users = diabetes[diabetes['Diabetes_012'] == 1]\n",
    "\n",
    "# limit to a lower number (to reduce computation)\n",
    "n=500\n",
    "no_diabetes = no_diabetes.sample(n=n, random_state=42)\n",
    "diabetes_users = diabetes_users.sample(n=n, random_state=42)\n",
    "\n",
    "diabetes_balanced = pd.concat([no_diabetes, diabetes_users])\n",
    "\n",
    "# Save the balanced dataset to CSV\n",
    "diabetes_balanced.to_csv('balanced_diabetes_data.csv', index=False)\n",
    "\n",
    "diabetes_balanced = diabetes_balanced.reset_index(drop=True)"
   ]
  },
  {
   "cell_type": "code",
   "execution_count": 8,
   "id": "5561122d",
   "metadata": {},
   "outputs": [
    {
     "name": "stdout",
     "output_type": "stream",
     "text": [
      "0    500\n",
      "1    500\n",
      "Name: Diabetes_012, dtype: int64\n",
      "1000\n"
     ]
    }
   ],
   "source": [
    "print(diabetes_balanced['Diabetes_012'].value_counts())\n",
    "print(len(diabetes_balanced))"
   ]
  },
  {
   "cell_type": "markdown",
   "id": "3499cf6b",
   "metadata": {},
   "source": [
    "## Collaborative Filtering"
   ]
  },
  {
   "cell_type": "code",
   "execution_count": 10,
   "id": "10728e5e",
   "metadata": {},
   "outputs": [
    {
     "name": "stdout",
     "output_type": "stream",
     "text": [
      "Cosine similarity matrix shape: (1000, 1000)\n",
      "Number of misdiagnosed pairs: 459\n",
      "     user_1  user_2  similarity  non_diabetes_user  diabetes_user\n",
      "0         0     521    0.990026                  0              1\n",
      "1         0     548    0.992026                  0              1\n",
      "2         0     794    0.996419                  0              1\n",
      "3         0     917    0.990252                  0              1\n",
      "4         0     932    0.991719                  0              1\n",
      "..      ...     ...         ...                ...            ...\n",
      "454     444     605    0.992914                  0              1\n",
      "455     444     768    0.990722                  0              1\n",
      "456     458     506    0.990362                  0              1\n",
      "457     477     831    0.990653                  0              1\n",
      "458     477     929    0.992318                  0              1\n",
      "\n",
      "[459 rows x 5 columns]\n",
      "There are 459 misdiagnoses.\n"
     ]
    }
   ],
   "source": [
    "# Extract features (excluding the Diabetes_012 label)\n",
    "features = diabetes_balanced.drop(columns=['Diabetes_012'])\n",
    "\n",
    "# Compute cosine similarity matrix\n",
    "similarity_matrix = cosine_similarity(features)\n",
    "\n",
    "print(\"Cosine similarity matrix shape:\", similarity_matrix.shape)\n",
    "\n",
    "# Create a set to store unique \"1\" (diabetes) individuals that have been added\n",
    "added_diabetes_ones = set()\n",
    "\n",
    "# List to store misdiagnosed pairs\n",
    "misdiagnoses = []\n",
    "\n",
    "# Set a similarity threshold\n",
    "threshold = 0.99\n",
    "\n",
    "# Loop through each \"0\" (non-diabetes) individual\n",
    "for i in range(len(diabetes_balanced)):\n",
    "    if diabetes_balanced['Diabetes_012'].iloc[i] == 0:  # Non-diabetes individual\n",
    "        # For each \"0\", loop through \"1\"s (diabetes individuals) and check if similarity is above threshold\n",
    "        for j in range(len(diabetes_balanced)):\n",
    "            if diabetes_balanced['Diabetes_012'].iloc[j] == 1 and j not in added_diabetes_ones:  # Diabetes individual\n",
    "                # Check if similarity score is above the threshold\n",
    "                if similarity_matrix[i, j] >= threshold:\n",
    "                    # Store the pair in the misdiagnoses list\n",
    "                    misdiagnoses.append({\n",
    "                        'user_1': i,  # Non-diabetes user\n",
    "                        'user_2': j,  # Diabetes user\n",
    "                        'similarity': similarity_matrix[i, j],\n",
    "                        'non_diabetes_user': diabetes_balanced['Diabetes_012'].iloc[i],\n",
    "                        'diabetes_user': diabetes_balanced['Diabetes_012'].iloc[j]\n",
    "                    })\n",
    "                    # Add this \"1\" (diabetes) to the added_diabetes_ones set to avoid duplicates\n",
    "                    added_diabetes_ones.add(j)\n",
    "\n",
    "# Convert to DataFrame\n",
    "misdiagnoses_df = pd.DataFrame(misdiagnoses)\n",
    "\n",
    "print(\"Number of misdiagnosed pairs:\", len(misdiagnoses_df))\n",
    "print(misdiagnoses_df)\n",
    "num_rows = misdiagnoses_df.shape[0]\n",
    "print(\"There are\", num_rows, \"misdiagnoses.\")"
   ]
  },
  {
   "cell_type": "code",
   "execution_count": null,
   "id": "5fca157e",
   "metadata": {},
   "outputs": [],
   "source": []
  }
 ],
 "metadata": {
  "kernelspec": {
   "display_name": "Python (tf_env)",
   "language": "python",
   "name": "tf_env"
  },
  "language_info": {
   "codemirror_mode": {
    "name": "ipython",
    "version": 3
   },
   "file_extension": ".py",
   "mimetype": "text/x-python",
   "name": "python",
   "nbconvert_exporter": "python",
   "pygments_lexer": "ipython3",
   "version": "3.9.21"
  }
 },
 "nbformat": 4,
 "nbformat_minor": 5
}

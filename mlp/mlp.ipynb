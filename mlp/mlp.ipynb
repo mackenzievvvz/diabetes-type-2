{
 "cells": [
  {
   "cell_type": "code",
   "execution_count": 63,
   "metadata": {},
   "outputs": [],
   "source": [
    "import math\n",
    "import numpy as np\n",
    "import pandas as pd\n",
    "import matplotlib.pyplot as plt\n",
    "from sklearn.preprocessing import MinMaxScaler\n",
    "from sklearn.model_selection import train_test_split\n",
    "from sklearn.metrics import accuracy_score\n",
    "import matplotlib.pyplot as plt"
   ]
  },
  {
   "cell_type": "markdown",
   "metadata": {},
   "source": [
    "# Cleaning\n",
    "\n",
    "make sampling even\n",
    "\n",
    "1. reduce the dataset by sampling a smaller size (35515 rows), even distribution of categories\n",
    "2. min-max scale the features to account for different ranges in data like BMI\n",
    "3. add an intercept bias term to features\n",
    "4. split into training/test data"
   ]
  },
  {
   "cell_type": "code",
   "execution_count": 64,
   "metadata": {},
   "outputs": [
    {
     "data": {
      "text/plain": [
       "(50736, 22)"
      ]
     },
     "execution_count": 64,
     "metadata": {},
     "output_type": "execute_result"
    }
   ],
   "source": [
    "df = pd.read_csv('../archive/diabetes_012_health_indicators_BRFSS2015.csv')\n",
    "\n",
    "# columns should be type int -- none are float or categorical\n",
    "df = df.astype(int)\n",
    "\n",
    "# reduce dataset by sampling \n",
    "sample_size = 0.3\n",
    "random_state = 1\n",
    "\n",
    "df_small = df.sample(frac=0.2, random_state=1)\n",
    "df_small.shape"
   ]
  },
  {
   "cell_type": "code",
   "execution_count": 65,
   "metadata": {},
   "outputs": [
    {
     "data": {
      "text/html": [
       "<div>\n",
       "<style scoped>\n",
       "    .dataframe tbody tr th:only-of-type {\n",
       "        vertical-align: middle;\n",
       "    }\n",
       "\n",
       "    .dataframe tbody tr th {\n",
       "        vertical-align: top;\n",
       "    }\n",
       "\n",
       "    .dataframe thead th {\n",
       "        text-align: right;\n",
       "    }\n",
       "</style>\n",
       "<table border=\"1\" class=\"dataframe\">\n",
       "  <thead>\n",
       "    <tr style=\"text-align: right;\">\n",
       "      <th></th>\n",
       "      <th>HighBP</th>\n",
       "      <th>HighChol</th>\n",
       "      <th>CholCheck</th>\n",
       "      <th>BMI</th>\n",
       "      <th>Smoker</th>\n",
       "      <th>Stroke</th>\n",
       "      <th>HeartDiseaseorAttack</th>\n",
       "      <th>PhysActivity</th>\n",
       "      <th>Fruits</th>\n",
       "      <th>Veggies</th>\n",
       "      <th>...</th>\n",
       "      <th>AnyHealthcare</th>\n",
       "      <th>NoDocbcCost</th>\n",
       "      <th>GenHlth</th>\n",
       "      <th>MentHlth</th>\n",
       "      <th>PhysHlth</th>\n",
       "      <th>DiffWalk</th>\n",
       "      <th>Sex</th>\n",
       "      <th>Age</th>\n",
       "      <th>Education</th>\n",
       "      <th>Income</th>\n",
       "    </tr>\n",
       "  </thead>\n",
       "  <tbody>\n",
       "    <tr>\n",
       "      <th>235899</th>\n",
       "      <td>1</td>\n",
       "      <td>0</td>\n",
       "      <td>1</td>\n",
       "      <td>23</td>\n",
       "      <td>1</td>\n",
       "      <td>0</td>\n",
       "      <td>0</td>\n",
       "      <td>1</td>\n",
       "      <td>1</td>\n",
       "      <td>1</td>\n",
       "      <td>...</td>\n",
       "      <td>1</td>\n",
       "      <td>0</td>\n",
       "      <td>2</td>\n",
       "      <td>0</td>\n",
       "      <td>0</td>\n",
       "      <td>0</td>\n",
       "      <td>0</td>\n",
       "      <td>13</td>\n",
       "      <td>6</td>\n",
       "      <td>6</td>\n",
       "    </tr>\n",
       "    <tr>\n",
       "      <th>74852</th>\n",
       "      <td>0</td>\n",
       "      <td>0</td>\n",
       "      <td>1</td>\n",
       "      <td>22</td>\n",
       "      <td>1</td>\n",
       "      <td>0</td>\n",
       "      <td>1</td>\n",
       "      <td>1</td>\n",
       "      <td>1</td>\n",
       "      <td>1</td>\n",
       "      <td>...</td>\n",
       "      <td>1</td>\n",
       "      <td>0</td>\n",
       "      <td>2</td>\n",
       "      <td>0</td>\n",
       "      <td>5</td>\n",
       "      <td>0</td>\n",
       "      <td>1</td>\n",
       "      <td>9</td>\n",
       "      <td>6</td>\n",
       "      <td>8</td>\n",
       "    </tr>\n",
       "    <tr>\n",
       "      <th>8205</th>\n",
       "      <td>1</td>\n",
       "      <td>1</td>\n",
       "      <td>1</td>\n",
       "      <td>26</td>\n",
       "      <td>1</td>\n",
       "      <td>0</td>\n",
       "      <td>0</td>\n",
       "      <td>1</td>\n",
       "      <td>1</td>\n",
       "      <td>1</td>\n",
       "      <td>...</td>\n",
       "      <td>1</td>\n",
       "      <td>0</td>\n",
       "      <td>2</td>\n",
       "      <td>0</td>\n",
       "      <td>0</td>\n",
       "      <td>0</td>\n",
       "      <td>0</td>\n",
       "      <td>11</td>\n",
       "      <td>4</td>\n",
       "      <td>6</td>\n",
       "    </tr>\n",
       "    <tr>\n",
       "      <th>127632</th>\n",
       "      <td>1</td>\n",
       "      <td>0</td>\n",
       "      <td>1</td>\n",
       "      <td>39</td>\n",
       "      <td>0</td>\n",
       "      <td>0</td>\n",
       "      <td>0</td>\n",
       "      <td>1</td>\n",
       "      <td>1</td>\n",
       "      <td>1</td>\n",
       "      <td>...</td>\n",
       "      <td>1</td>\n",
       "      <td>0</td>\n",
       "      <td>4</td>\n",
       "      <td>0</td>\n",
       "      <td>0</td>\n",
       "      <td>0</td>\n",
       "      <td>1</td>\n",
       "      <td>11</td>\n",
       "      <td>6</td>\n",
       "      <td>5</td>\n",
       "    </tr>\n",
       "    <tr>\n",
       "      <th>32021</th>\n",
       "      <td>0</td>\n",
       "      <td>0</td>\n",
       "      <td>1</td>\n",
       "      <td>22</td>\n",
       "      <td>1</td>\n",
       "      <td>0</td>\n",
       "      <td>0</td>\n",
       "      <td>0</td>\n",
       "      <td>1</td>\n",
       "      <td>1</td>\n",
       "      <td>...</td>\n",
       "      <td>1</td>\n",
       "      <td>0</td>\n",
       "      <td>1</td>\n",
       "      <td>0</td>\n",
       "      <td>0</td>\n",
       "      <td>0</td>\n",
       "      <td>0</td>\n",
       "      <td>10</td>\n",
       "      <td>6</td>\n",
       "      <td>8</td>\n",
       "    </tr>\n",
       "  </tbody>\n",
       "</table>\n",
       "<p>5 rows × 21 columns</p>\n",
       "</div>"
      ],
      "text/plain": [
       "        HighBP  HighChol  CholCheck  BMI  Smoker  Stroke  \\\n",
       "235899       1         0          1   23       1       0   \n",
       "74852        0         0          1   22       1       0   \n",
       "8205         1         1          1   26       1       0   \n",
       "127632       1         0          1   39       0       0   \n",
       "32021        0         0          1   22       1       0   \n",
       "\n",
       "        HeartDiseaseorAttack  PhysActivity  Fruits  Veggies  ...  \\\n",
       "235899                     0             1       1        1  ...   \n",
       "74852                      1             1       1        1  ...   \n",
       "8205                       0             1       1        1  ...   \n",
       "127632                     0             1       1        1  ...   \n",
       "32021                      0             0       1        1  ...   \n",
       "\n",
       "        AnyHealthcare  NoDocbcCost  GenHlth  MentHlth  PhysHlth  DiffWalk  \\\n",
       "235899              1            0        2         0         0         0   \n",
       "74852               1            0        2         0         5         0   \n",
       "8205                1            0        2         0         0         0   \n",
       "127632              1            0        4         0         0         0   \n",
       "32021               1            0        1         0         0         0   \n",
       "\n",
       "        Sex  Age  Education  Income  \n",
       "235899    0   13          6       6  \n",
       "74852     1    9          6       8  \n",
       "8205      0   11          4       6  \n",
       "127632    1   11          6       5  \n",
       "32021     0   10          6       8  \n",
       "\n",
       "[5 rows x 21 columns]"
      ]
     },
     "execution_count": 65,
     "metadata": {},
     "output_type": "execute_result"
    }
   ],
   "source": [
    "# get the features\n",
    "df_feat = df_small.drop(\"Diabetes_012\", axis=1)\n",
    "df_feat.head()"
   ]
  },
  {
   "cell_type": "code",
   "execution_count": 66,
   "metadata": {},
   "outputs": [],
   "source": [
    "def getTrainTestData(df, test_size=0.2):\n",
    "    \"\"\"\n",
    "    Splits the data into train and test sets.\n",
    "    \"\"\"\n",
    "\n",
    "    # Split the data into features and target\n",
    "    X = df.drop(\"Diabetes_012\", axis=1)\n",
    "    y = df[\"Diabetes_012\"].to_numpy()\n",
    "\n",
    "\n",
    "    # min max scaling, rounded to 3 decimal places\n",
    "    scaler = MinMaxScaler()\n",
    "    X_scale = scaler.fit_transform(X).round(3)\n",
    "    # Add a new column filled with ones -- for intercept/bias term\n",
    "    X_scale = np.hstack((X_scale,np.ones([X_scale.shape[0],1], X_scale.dtype)))\n",
    "\n",
    "    # Split the data into train and test sets\n",
    "    X_train, X_test, y_train, y_test = train_test_split(X_scale, y, test_size=test_size, random_state=random_state)\n",
    "\n",
    "    return X_train, X_test, y_train, y_test"
   ]
  },
  {
   "cell_type": "code",
   "execution_count": 73,
   "metadata": {},
   "outputs": [],
   "source": [
    "X_train_small, X_test_small, y_train_small, y_test_small = getTrainTestData(df_small, test_size=0.2)\n",
    "X_train_big, X_test_big, y_train_big, y_test_big = getTrainTestData(df, test_size=0.2)"
   ]
  },
  {
   "cell_type": "code",
   "execution_count": null,
   "metadata": {},
   "outputs": [],
   "source": []
  },
  {
   "cell_type": "code",
   "execution_count": null,
   "metadata": {},
   "outputs": [],
   "source": []
  },
  {
   "cell_type": "markdown",
   "metadata": {},
   "source": [
    "# MLP"
   ]
  },
  {
   "cell_type": "markdown",
   "metadata": {},
   "source": [
    "## sklearn\n",
    "\n",
    "- ~45 seconds to fit: 300 iterations, 1 hidden layer size 100\n",
    "\n",
    "Loss function\n",
    "\n",
    "ADAM:\n",
    "- 0.837, hidden = (100,)\n",
    "- 0.847, hidden = (50,)\n",
    "- 0.848 , hidden = (15,)\n",
    "- 0.841, hidden = (50,20)\n",
    "- 0.846, hidden = (20,10,)\n",
    "- 0.848, hidden = (20), batch_size=50 --> 20 seconds to train also\n",
    "\n",
    "WITH BALANCED DATASET: 2 classes\n",
    "- .74"
   ]
  },
  {
   "cell_type": "code",
   "execution_count": 9,
   "metadata": {},
   "outputs": [],
   "source": [
    "from sklearn.neural_network import MLPClassifier\n",
    "from sklearn.datasets import make_classification\n",
    "from sklearn.model_selection import train_test_split"
   ]
  },
  {
   "cell_type": "code",
   "execution_count": 75,
   "metadata": {},
   "outputs": [],
   "source": [
    "clf = MLPClassifier(\n",
    "    random_state=1, \n",
    "    max_iter=300,\n",
    "    batch_size=50,\n",
    "    hidden_layer_sizes=(20),\n",
    "    learning_rate='invscaling',\n",
    "                    ).fit(X_train_small, y_train_small)"
   ]
  },
  {
   "cell_type": "code",
   "execution_count": 76,
   "metadata": {},
   "outputs": [
    {
     "data": {
      "text/plain": [
       "0.8554394954670871"
      ]
     },
     "execution_count": 76,
     "metadata": {},
     "output_type": "execute_result"
    }
   ],
   "source": [
    "clf.predict_proba(X_test[:1])\n",
    "clf.predict(X_test[:5, :])\n",
    "clf.score(X_test, y_test)"
   ]
  },
  {
   "cell_type": "code",
   "execution_count": 77,
   "metadata": {},
   "outputs": [
    {
     "data": {
      "text/plain": [
       "[<matplotlib.lines.Line2D at 0x13fb38530>]"
      ]
     },
     "execution_count": 77,
     "metadata": {},
     "output_type": "execute_result"
    },
    {
     "data": {
      "image/png": "[encoded data removed]",
      "text/plain": [
       "<Figure size 640x480 with 1 Axes>"
      ]
     },
     "metadata": {},
     "output_type": "display_data"
    }
   ],
   "source": [
    "# plot the loss curve\n",
    "plt.plot(clf.loss_curve_)"
   ]
  },
  {
   "cell_type": "code",
   "execution_count": null,
   "metadata": {},
   "outputs": [],
   "source": [
    "print(clf.predict_proba(X_test[:1]))\n",
    "print(clf.predict(X_test[:5, :]))\n",
    "print(clf.score(X_test, y_test))"
   ]
  },
  {
   "cell_type": "code",
   "execution_count": 13,
   "metadata": {},
   "outputs": [
    {
     "data": {
      "text/plain": [
       "array([0, 1, 2])"
      ]
     },
     "execution_count": 13,
     "metadata": {},
     "output_type": "execute_result"
    }
   ],
   "source": [
    "clf.classes_"
   ]
  },
  {
   "cell_type": "code",
   "execution_count": 14,
   "metadata": {},
   "outputs": [
    {
     "data": {
      "text/plain": [
       "{'activation': 'relu',\n",
       " 'alpha': 0.0001,\n",
       " 'batch_size': 'auto',\n",
       " 'beta_1': 0.9,\n",
       " 'beta_2': 0.999,\n",
       " 'early_stopping': False,\n",
       " 'epsilon': 1e-08,\n",
       " 'hidden_layer_sizes': 20,\n",
       " 'learning_rate': 'invscaling',\n",
       " 'learning_rate_init': 0.001,\n",
       " 'max_fun': 15000,\n",
       " 'max_iter': 300,\n",
       " 'momentum': 0.9,\n",
       " 'n_iter_no_change': 10,\n",
       " 'nesterovs_momentum': True,\n",
       " 'power_t': 0.5,\n",
       " 'random_state': 1,\n",
       " 'shuffle': True,\n",
       " 'solver': 'adam',\n",
       " 'tol': 0.0001,\n",
       " 'validation_fraction': 0.1,\n",
       " 'verbose': False,\n",
       " 'warm_start': False}"
      ]
     },
     "execution_count": 14,
     "metadata": {},
     "output_type": "execute_result"
    }
   ],
   "source": [
    "clf.get_params()"
   ]
  },
  {
   "cell_type": "code",
   "execution_count": null,
   "metadata": {},
   "outputs": [],
   "source": []
  },
  {
   "cell_type": "markdown",
   "metadata": {},
   "source": [
    "## only two classes\n",
    "\n",
    "using sri's balanced dataset that only has diabetes or not diabetes (no pre-diabetes).\n",
    "\n",
    "This generally performs worse than the distinction between 2 classes. I'm thinking this may be because ppl with diabetes and pre-diabetes are similar in lifestyle, so when they are changed from pre to no diabetes, then the classifier wants to call them diabetes. This should be looked into more."
   ]
  },
  {
   "cell_type": "code",
   "execution_count": 17,
   "metadata": {},
   "outputs": [],
   "source": [
    "balanced_df = pd.read_csv(\"../balanced_diabetes_data.csv\")"
   ]
  },
  {
   "cell_type": "code",
   "execution_count": 18,
   "metadata": {},
   "outputs": [
    {
     "data": {
      "text/plain": [
       "(array([[0.   , 0.   , 1.   , ..., 1.   , 0.714, 1.   ],\n",
       "        [1.   , 1.   , 1.   , ..., 0.8  , 0.714, 1.   ],\n",
       "        [0.   , 0.   , 1.   , ..., 0.6  , 0.429, 1.   ],\n",
       "        ...,\n",
       "        [1.   , 1.   , 1.   , ..., 0.2  , 0.   , 1.   ],\n",
       "        [1.   , 1.   , 1.   , ..., 0.8  , 0.   , 1.   ],\n",
       "        [1.   , 1.   , 1.   , ..., 0.6  , 0.   , 1.   ]]),\n",
       " array([0, 1, 0, ..., 1, 0, 0]))"
      ]
     },
     "execution_count": 18,
     "metadata": {},
     "output_type": "execute_result"
    }
   ],
   "source": [
    "# then split into training and test datasets\n",
    "y = balanced_df.loc[:,\"Diabetes_012\"].to_numpy()\n",
    "df_feat = balanced_df.drop(\"Diabetes_012\", axis=1)\n",
    "\n",
    "# min max scaling, rounded to 3 decimal places\n",
    "scaler = MinMaxScaler()\n",
    "X_scale = scaler.fit_transform(df_feat).round(3)\n",
    "\n",
    "# Add a new column filled with ones -- for intercept/bias term\n",
    "X_scale = np.hstack((X_scale,np.ones([X_scale.shape[0],1], X_scale.dtype)))\n",
    "X_scale\n",
    "\n",
    "[X_train_2, X_test_2, y_train_2, y_test_2] = train_test_split(X_scale, y, test_size = .3)\n",
    "\n",
    "# we would then train the model on the training set\n",
    "X_train_2, y_train_2"
   ]
  },
  {
   "cell_type": "code",
   "execution_count": 19,
   "metadata": {},
   "outputs": [
    {
     "name": "stdout",
     "output_type": "stream",
     "text": [
      "[[0.11552667 0.88447333]]\n",
      "[1 0 1 0 0]\n",
      "0.7471708789136176\n"
     ]
    }
   ],
   "source": [
    "clf = MLPClassifier(\n",
    "    random_state=1, \n",
    "    max_iter=300,\n",
    "    hidden_layer_sizes=(20),\n",
    "    learning_rate='invscaling',\n",
    "                    ).fit(X_train_2, y_train_2)\n",
    "\n",
    "print(clf.predict_proba(X_test_2[:1]))\n",
    "print(clf.predict(X_test_2[:5, :]))\n",
    "print(clf.score(X_test_2, y_test_2))"
   ]
  },
  {
   "cell_type": "code",
   "execution_count": null,
   "metadata": {},
   "outputs": [],
   "source": []
  },
  {
   "cell_type": "markdown",
   "metadata": {},
   "source": [
    "## keras\n",
    "\n",
    "\n",
    "---\n",
    "Accuracy: 0.8488273024559021\n",
    "\n",
    "model = keras.Sequential([\n",
    "    Dense(20, activation='relu', input_shape=(22,)),\n",
    "    Dense(3, activation='softmax'),\n",
    "])\n",
    "\n",
    "model.compile(optimizer='adam',\n",
    "              loss='categorical_crossentropy',\n",
    "              metrics=['accuracy'])\n",
    "\n",
    "model.fit(X_train, y_train_p, epochs=10, batch_size=32)\n",
    "\n",
    "---"
   ]
  },
  {
   "cell_type": "code",
   "execution_count": null,
   "metadata": {},
   "outputs": [
    {
     "name": "stderr",
     "output_type": "stream",
     "text": [
      "2025-04-07 11:08:09.404627: I tensorflow/core/platform/cpu_feature_guard.cc:210] This TensorFlow binary is optimized to use available CPU instructions in performance-critical operations.\n",
      "To enable the following instructions: AVX2 AVX512F AVX512_VNNI FMA, in other operations, rebuild TensorFlow with the appropriate compiler flags.\n"
     ]
    }
   ],
   "source": [
    "# keras contains the tensorflow package, often used for fitting NNets\n",
    "import keras\n",
    "from keras.datasets import mnist\n",
    "from keras.models import Model\n",
    "from keras.layers import Dense, Input\n",
    "from keras.layers import Conv2D, MaxPooling2D, Flatten\n",
    "from keras.optimizers import SGD\n",
    "from keras.losses import binary_crossentropy\n",
    "\n",
    "\n",
    "from tensorflow import keras\n",
    "from tensorflow.keras.layers import Dense"
   ]
  },
  {
   "cell_type": "code",
   "execution_count": null,
   "metadata": {},
   "outputs": [],
   "source": []
  },
  {
   "cell_type": "code",
   "execution_count": null,
   "metadata": {},
   "outputs": [
    {
     "name": "stdout",
     "output_type": "stream",
     "text": [
      "Epoch 1/7\n"
     ]
    },
    {
     "name": "stderr",
     "output_type": "stream",
     "text": [
      "/Library/Frameworks/Python.framework/Versions/3.12/lib/python3.12/site-packages/keras/src/layers/core/dense.py:86: UserWarning: Do not pass an `input_shape`/`input_dim` argument to a layer. When using Sequential models, prefer using an `Input(shape)` object as the first layer in the model instead.\n",
      "  super().__init__(activity_regularizer=activity_regularizer, **kwargs)\n"
     ]
    },
    {
     "name": "stdout",
     "output_type": "stream",
     "text": [
      "\u001b[1m1269/1269\u001b[0m \u001b[32m━━━━━━━━━━━━━━━━━━━━\u001b[0m\u001b[37m\u001b[0m \u001b[1m2s\u001b[0m 1ms/step - accuracy: 0.8361 - loss: 0.4740\n",
      "Epoch 2/7\n",
      "\u001b[1m1269/1269\u001b[0m \u001b[32m━━━━━━━━━━━━━━━━━━━━\u001b[0m\u001b[37m\u001b[0m \u001b[1m1s\u001b[0m 894us/step - accuracy: 0.8410 - loss: 0.4139\n",
      "Epoch 3/7\n",
      "\u001b[1m1269/1269\u001b[0m \u001b[32m━━━━━━━━━━━━━━━━━━━━\u001b[0m\u001b[37m\u001b[0m \u001b[1m1s\u001b[0m 886us/step - accuracy: 0.8433 - loss: 0.4102\n",
      "Epoch 4/7\n",
      "\u001b[1m1269/1269\u001b[0m \u001b[32m━━━━━━━━━━━━━━━━━━━━\u001b[0m\u001b[37m\u001b[0m \u001b[1m1s\u001b[0m 947us/step - accuracy: 0.8459 - loss: 0.3991\n",
      "Epoch 5/7\n",
      "\u001b[1m1269/1269\u001b[0m \u001b[32m━━━━━━━━━━━━━━━━━━━━\u001b[0m\u001b[37m\u001b[0m \u001b[1m1s\u001b[0m 988us/step - accuracy: 0.8485 - loss: 0.3982\n",
      "Epoch 6/7\n",
      "\u001b[1m1269/1269\u001b[0m \u001b[32m━━━━━━━━━━━━━━━━━━━━\u001b[0m\u001b[37m\u001b[0m \u001b[1m1s\u001b[0m 941us/step - accuracy: 0.8430 - loss: 0.4022\n",
      "Epoch 7/7\n",
      "\u001b[1m1269/1269\u001b[0m \u001b[32m━━━━━━━━━━━━━━━━━━━━\u001b[0m\u001b[37m\u001b[0m \u001b[1m1s\u001b[0m 1ms/step - accuracy: 0.8472 - loss: 0.3981\n",
      "\u001b[1m318/318\u001b[0m \u001b[32m━━━━━━━━━━━━━━━━━━━━\u001b[0m\u001b[37m\u001b[0m \u001b[1m0s\u001b[0m 767us/step - accuracy: 0.8590 - loss: 0.3772\n"
     ]
    },
    {
     "data": {
      "text/plain": [
       "0.8537642955780029"
      ]
     },
     "execution_count": 78,
     "metadata": {},
     "output_type": "execute_result"
    }
   ],
   "source": [
    "y_train_p = keras.utils.to_categorical(y_train_small, num_classes=3)\n",
    "y_test_p = keras.utils.to_categorical(y_test_small, num_classes=3)\n",
    "\n",
    "model = keras.Sequential([\n",
    "    Dense(20, activation='relu', input_shape=(22,)),\n",
    "    Dense(3, activation='softmax'),\n",
    "])\n",
    "\n",
    "model.compile(optimizer='adam',\n",
    "              loss='categorical_crossentropy',\n",
    "              metrics=['accuracy'])\n",
    "\n",
    "model.fit(X_train_small, y_train_p, epochs=7, batch_size=32, verbose=1)\n",
    "loss, accuracy = model.evaluate(X_test_small, y_test_p)\n",
    "# predictions = model.predict(new_data)\n",
    "accuracy"
   ]
  },
  {
   "cell_type": "code",
   "execution_count": null,
   "metadata": {},
   "outputs": [],
   "source": []
  },
  {
   "cell_type": "markdown",
   "metadata": {},
   "source": [
    "# Scale to larger dataset"
   ]
  },
  {
   "cell_type": "code",
   "execution_count": 82,
   "metadata": {},
   "outputs": [
    {
     "name": "stdout",
     "output_type": "stream",
     "text": [
      "Epoch 1/4\n",
      "\u001b[1m4059/4059\u001b[0m \u001b[32m━━━━━━━━━━━━━━━━━━━━\u001b[0m\u001b[37m\u001b[0m \u001b[1m6s\u001b[0m 1ms/step - accuracy: 0.8392 - loss: 0.4487\n",
      "Epoch 2/4\n",
      "\u001b[1m4059/4059\u001b[0m \u001b[32m━━━━━━━━━━━━━━━━━━━━\u001b[0m\u001b[37m\u001b[0m \u001b[1m4s\u001b[0m 957us/step - accuracy: 0.8452 - loss: 0.4046\n",
      "Epoch 3/4\n",
      "\u001b[1m4059/4059\u001b[0m \u001b[32m━━━━━━━━━━━━━━━━━━━━\u001b[0m\u001b[37m\u001b[0m \u001b[1m4s\u001b[0m 898us/step - accuracy: 0.8472 - loss: 0.3996\n",
      "Epoch 4/4\n",
      "\u001b[1m4059/4059\u001b[0m \u001b[32m━━━━━━━━━━━━━━━━━━━━\u001b[0m\u001b[37m\u001b[0m \u001b[1m4s\u001b[0m 913us/step - accuracy: 0.8473 - loss: 0.4004\n",
      "\u001b[1m1586/1586\u001b[0m \u001b[32m━━━━━━━━━━━━━━━━━━━━\u001b[0m\u001b[37m\u001b[0m \u001b[1m1s\u001b[0m 745us/step - accuracy: 0.8452 - loss: 0.3979\n"
     ]
    },
    {
     "data": {
      "text/plain": [
       "0.8478397727012634"
      ]
     },
     "execution_count": 82,
     "metadata": {},
     "output_type": "execute_result"
    }
   ],
   "source": [
    "y_train_p = keras.utils.to_categorical(y_train_big, num_classes=3)\n",
    "y_test_p = keras.utils.to_categorical(y_test_big, num_classes=3)\n",
    "\n",
    "model = keras.Sequential([\n",
    "    Dense(20, activation='relu', input_shape=(22,)),\n",
    "    Dense(3, activation='softmax'),\n",
    "])\n",
    "\n",
    "model.compile(optimizer='adam',\n",
    "              loss='categorical_crossentropy',\n",
    "              metrics=['accuracy'])\n",
    "\n",
    "model.fit(X_train_big, y_train_p, epochs=4, batch_size=50, verbose=1)\n",
    "loss, accuracy = model.evaluate(X_test_big, y_test_p)\n",
    "# predictions = model.predict(new_data)\n",
    "accuracy"
   ]
  },
  {
   "cell_type": "code",
   "execution_count": null,
   "metadata": {},
   "outputs": [],
   "source": []
  },
  {
   "cell_type": "code",
   "execution_count": null,
   "metadata": {},
   "outputs": [],
   "source": []
  }
 ],
 "metadata": {
  "kernelspec": {
   "display_name": "Python 3",
   "language": "python",
   "name": "python3"
  },
  "language_info": {
   "codemirror_mode": {
    "name": "ipython",
    "version": 3
   },
   "file_extension": ".py",
   "mimetype": "text/x-python",
   "name": "python",
   "nbconvert_exporter": "python",
   "pygments_lexer": "ipython3",
   "version": "3.12.1"
  }
 },
 "nbformat": 4,
 "nbformat_minor": 2
}
